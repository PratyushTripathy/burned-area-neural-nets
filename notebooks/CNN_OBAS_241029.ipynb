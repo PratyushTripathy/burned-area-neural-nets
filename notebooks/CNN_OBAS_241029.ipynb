{
 "cells": [
  {
   "cell_type": "markdown",
   "id": "dhAmie5rO6NY",
   "metadata": {
    "id": "dhAmie5rO6NY"
   },
   "source": [
    "Install miniconda, python=3.11.5, jupyter notebook, then, use notebook to install the rest, See: env231003"
   ]
  },
  {
   "cell_type": "code",
   "execution_count": null,
   "id": "ed24ffc4-f39e-4fdb-9292-7faed458acf3",
   "metadata": {
    "id": "ed24ffc4-f39e-4fdb-9292-7faed458acf3"
   },
   "outputs": [],
   "source": [
    "#conda install -c conda-forge gdal=3.7.2\n",
    "#restart"
   ]
  },
  {
   "cell_type": "code",
   "execution_count": null,
   "id": "Vspj8iReOdwf",
   "metadata": {
    "id": "Vspj8iReOdwf"
   },
   "outputs": [],
   "source": [
    "#!pip install tensorflow==2.13.0\n",
    "#!pip install tensorboard==2.13.0\n",
    "#!pip install pyrsgis==0.4.1rc2\n",
    "#!pip install matplotlib\n",
    "#!pip install matplotlib-inline"
   ]
  },
  {
   "cell_type": "code",
   "execution_count": null,
   "id": "BjrHbfmCOn_j",
   "metadata": {
    "id": "BjrHbfmCOn_j"
   },
   "outputs": [],
   "source": [
    "#conda install scikit-learn\n",
    "#restart"
   ]
  },
  {
   "cell_type": "code",
   "execution_count": null,
   "id": "365ce9d1",
   "metadata": {},
   "outputs": [],
   "source": [
    "#conda install -c conda-forge proj\n"
   ]
  },
  {
   "cell_type": "code",
   "execution_count": 1,
   "id": "bf7f8600-d50e-4df6-8e3b-ea68510c1589",
   "metadata": {
    "colab": {
     "base_uri": "https://localhost:8080/"
    },
    "id": "bf7f8600-d50e-4df6-8e3b-ea68510c1589",
    "outputId": "ea9daf00-e13d-4510-c8ac-dea30540ebf4"
   },
   "outputs": [
    {
     "name": "stdout",
     "output_type": "stream",
     "text": [
      "The python version is 3.11.5.\n"
     ]
    },
    {
     "name": "stderr",
     "output_type": "stream",
     "text": [
      "2024-10-29 13:42:53.494936: I tensorflow/core/util/port.cc:110] oneDNN custom operations are on. You may see slightly different numerical results due to floating-point round-off errors from different computation orders. To turn them off, set the environment variable `TF_ENABLE_ONEDNN_OPTS=0`.\n",
      "2024-10-29 13:42:53.549783: I tensorflow/tsl/cuda/cudart_stub.cc:28] Could not find cuda drivers on your machine, GPU will not be used.\n",
      "2024-10-29 13:42:53.835150: I tensorflow/tsl/cuda/cudart_stub.cc:28] Could not find cuda drivers on your machine, GPU will not be used.\n",
      "2024-10-29 13:42:53.837061: I tensorflow/core/platform/cpu_feature_guard.cc:182] This TensorFlow binary is optimized to use available CPU instructions in performance-critical operations.\n",
      "To enable the following instructions: AVX2 AVX512F AVX512_VNNI FMA, in other operations, rebuild TensorFlow with the appropriate compiler flags.\n",
      "2024-10-29 13:42:54.575942: W tensorflow/compiler/tf2tensorrt/utils/py_utils.cc:38] TF-TRT Warning: Could not find TensorRT\n"
     ]
    },
    {
     "name": "stdout",
     "output_type": "stream",
     "text": [
      "The tensorflow version is 2.13.0.\n",
      "The tensorboard version is 2.13.0.\n",
      "The scikit-learn version is 1.2.2.\n",
      "The pyrgis version is 0.4.2rc1.\n",
      "3070200\n"
     ]
    }
   ],
   "source": [
    "import platform\n",
    "print('The python version is {}.'.format(platform.python_version()))\n",
    "\n",
    "import tensorflow as tf\n",
    "print('The tensorflow version is {}.'.format(tf.__version__))\n",
    "\n",
    "from tensorboard import version\n",
    "print('The tensorboard version is {}.'.format(version.VERSION))\n",
    "\n",
    "import sklearn\n",
    "print('The scikit-learn version is {}.'.format(sklearn.__version__))\n",
    "\n",
    "#!pip3 install pyrsgis==0.4.1rc2\n",
    "\n",
    "import pyrsgis\n",
    "print('The pyrgis version is {}.'.format(pyrsgis.__version__))\n",
    "\n",
    "from osgeo import gdal\n",
    "\n",
    "version_info = gdal.VersionInfo()\n",
    "print(version_info)\n",
    "\n",
    "\n"
   ]
  },
  {
   "cell_type": "code",
   "execution_count": 2,
   "id": "f25d8194-4759-4b5b-b93f-9f866f98fafd",
   "metadata": {
    "colab": {
     "base_uri": "https://localhost:8080/"
    },
    "id": "f25d8194-4759-4b5b-b93f-9f866f98fafd",
    "outputId": "979b2f7f-28b9-4a1d-f91f-f8db1915e9cf"
   },
   "outputs": [
    {
     "name": "stdout",
     "output_type": "stream",
     "text": [
      "h5py                          3.9.0\n",
      "numpy                         1.24.3\n"
     ]
    }
   ],
   "source": [
    "import os\n",
    "\n",
    "!pip list | grep h5py\n",
    "!pip list | grep numpy"
   ]
  },
  {
   "cell_type": "code",
   "execution_count": 3,
   "id": "c648bdec-1aa2-4735-82db-3c18bace3421",
   "metadata": {
    "id": "c648bdec-1aa2-4735-82db-3c18bace3421"
   },
   "outputs": [],
   "source": [
    "#%tensorflow_version 2.x\n",
    "import tensorflow as tf\n",
    "\n",
    "from tensorflow import keras\n",
    "from tensorflow.keras.layers import Dense, Conv2D, MaxPooling2D, Dropout, Flatten\n",
    "from sklearn.metrics import confusion_matrix, precision_score, recall_score, f1_score\n",
    "from matplotlib import pyplot as plt"
   ]
  },
  {
   "cell_type": "code",
   "execution_count": 4,
   "id": "b34f1443-f5d0-40d5-912b-a0e71658dfe3",
   "metadata": {
    "id": "b34f1443-f5d0-40d5-912b-a0e71658dfe3"
   },
   "outputs": [],
   "source": [
    "import os, math, random, glob, time\n",
    "random.seed(2)\n",
    "import numpy as np\n",
    "from pyrsgis import raster\n",
    "from pyrsgis.ml import imageChipsFromFile\n",
    "from sklearn.utils import resample"
   ]
  },
  {
   "cell_type": "code",
   "execution_count": 6,
   "id": "LxQaYljcDnHD",
   "metadata": {
    "colab": {
     "base_uri": "https://localhost:8080/"
    },
    "id": "LxQaYljcDnHD",
    "outputId": "a88aaf5c-5865-4841-fd67-9f51d8bc1d69"
   },
   "outputs": [
    {
     "name": "stdout",
     "output_type": "stream",
     "text": [
      "-rw-rw-r-- 1 janaya janaya 58518461 mar 14  2024 NewFeature16bit_0.tif\n",
      "-rw-rw-r-- 1 janaya janaya 63968263 mar 14  2024 NewFeature16bit_10.tif\n",
      "-rw-rw-r-- 1 janaya janaya 68122383 mar 14  2024 NewFeature16bit_11.tif\n",
      "-rw-rw-r-- 1 janaya janaya 63522571 mar 14  2024 NewFeature16bit_12.tif\n",
      "-rw-rw-r-- 1 janaya janaya 51351071 mar 14  2024 NewFeature16bit_13.tif\n",
      "-rw-rw-r-- 1 janaya janaya 17158707 mar 14  2024 NewFeature16bit_14.tif\n",
      "-rw-rw-r-- 1 janaya janaya 66929033 mar 14  2024 NewFeature16bit_15.tif\n",
      "-rw-rw-r-- 1 janaya janaya 64855955 mar 14  2024 NewFeature16bit_16.tif\n",
      "-rw-rw-r-- 1 janaya janaya 55774061 mar 14  2024 NewFeature16bit_17.tif\n",
      "-rw-rw-r-- 1 janaya janaya 62610877 mar 14  2024 NewFeature16bit_18.tif\n",
      "-rw-rw-r-- 1 janaya janaya 61791261 mar 14  2024 NewFeature16bit_19.tif\n",
      "-rw-rw-r-- 1 janaya janaya 63645937 mar 14  2024 NewFeature16bit_1.tif\n",
      "-rw-rw-r-- 1 janaya janaya 38884395 mar 14  2024 NewFeature16bit_20.tif\n",
      "-rw-rw-r-- 1 janaya janaya   452181 mar 14  2024 NewFeature16bit_21.tif\n",
      "-rw-rw-r-- 1 janaya janaya 20605957 mar 14  2024 NewFeature16bit_22.tif\n",
      "-rw-rw-r-- 1 janaya janaya 62620977 mar 14  2024 NewFeature16bit_23.tif\n",
      "-rw-rw-r-- 1 janaya janaya 61963679 mar 14  2024 NewFeature16bit_24.tif\n",
      "-rw-rw-r-- 1 janaya janaya 42877569 mar 14  2024 NewFeature16bit_25.tif\n",
      "-rw-rw-r-- 1 janaya janaya 21338943 mar 14  2024 NewFeature16bit_26.tif\n",
      "-rw-rw-r-- 1 janaya janaya 15121573 mar 14  2024 NewFeature16bit_27.tif\n",
      "-rw-rw-r-- 1 janaya janaya 56676283 mar 14  2024 NewFeature16bit_2.tif\n",
      "-rw-rw-r-- 1 janaya janaya 42164025 mar 14  2024 NewFeature16bit_3.tif\n",
      "-rw-rw-r-- 1 janaya janaya 61780609 mar 14  2024 NewFeature16bit_4.tif\n",
      "-rw-rw-r-- 1 janaya janaya 52555783 mar 14  2024 NewFeature16bit_5.tif\n",
      "-rw-rw-r-- 1 janaya janaya  8902891 mar 14  2024 NewFeature16bit_6.tif\n",
      "-rw-rw-r-- 1 janaya janaya 62878615 mar 14  2024 NewFeature16bit_7.tif\n",
      "-rw-rw-r-- 1 janaya janaya 66453685 mar 14  2024 NewFeature16bit_8.tif\n",
      "-rw-rw-r-- 1 janaya janaya 68827375 mar 14  2024 NewFeature16bit_9.tif\n",
      "/home/janaya/Downloads\n"
     ]
    }
   ],
   "source": [
    "import os\n",
    "os.chdir('/home/janaya/Downloads')\n",
    "!ls -al NewF*\n",
    "!pwd\n"
   ]
  },
  {
   "cell_type": "code",
   "execution_count": 7,
   "id": "d0vIiZkA2saO",
   "metadata": {
    "colab": {
     "base_uri": "https://localhost:8080/",
     "height": 247
    },
    "id": "d0vIiZkA2saO",
    "outputId": "ef0442f8-0a04-4b59-e9db-890373923a6d"
   },
   "outputs": [],
   "source": [
    "import os\n",
    "# define the file names\n",
    "\n",
    "feature_file = '/home/janaya/Downloads/FeatureSyntheticCube_240216.tif'\n",
    "label_file = '/home/janaya/Downloads/LabelSyntheticCube_240216.tif'\n",
    "featuresNewImage = '/home/janaya/Downloads/NewFeature16bit_0.tif'\n",
    "os.chdir('/home/janaya/Downloads')\n",
    "\n",
    "#you may need to edit a *.py file following the next github directions\n",
    "#/net/home/janaya/.conda/envs/BurnedArea/lib/python3.8/site-packages/pyrsgis/ml/__init__.py\n",
    "#https://github.com/PratyushTripathy/Landsat-Classification-Using-Convolution-Neural-Network/issues/2"
   ]
  },
  {
   "cell_type": "code",
   "execution_count": 8,
   "id": "8b7bc59d",
   "metadata": {},
   "outputs": [
    {
     "data": {
      "text/plain": [
       "2"
      ]
     },
     "execution_count": 8,
     "metadata": {},
     "output_type": "execute_result"
    }
   ],
   "source": [
    "FeatureFileProperties = gdal.Open(feature_file)\n",
    "FeatureFileProperties.RasterCount\n",
    "FeatureFilePropertiesBand = FeatureFileProperties.GetRasterBand(1)\n",
    "FeatureFilePropertiesBand.DataType\n",
    "\n",
    "#unknown 0\n",
    "#8-byte  1\n",
    "#Uint16  2\n",
    "#Int16   3  WITH SIGN\n",
    "#UInt32  4\n",
    "#Int32   5\n"
   ]
  },
  {
   "cell_type": "code",
   "execution_count": 9,
   "id": "06f9f153",
   "metadata": {},
   "outputs": [
    {
     "data": {
      "text/plain": [
       "2"
      ]
     },
     "execution_count": 9,
     "metadata": {},
     "output_type": "execute_result"
    }
   ],
   "source": [
    "FeatureFileProperties = gdal.Open(label_file)\n",
    "FeatureFileProperties.RasterCount\n",
    "FeatureFilePropertiesBand = FeatureFileProperties.GetRasterBand(1)\n",
    "FeatureFilePropertiesBand.DataType\n",
    "\n",
    "#unknown 0\n",
    "#8-byte  1\n",
    "#Uint16  2\n",
    "#Int16   3 WITH SIGN\n",
    "#UInt32  4\n",
    "#Int32   5\n"
   ]
  },
  {
   "cell_type": "code",
   "execution_count": 10,
   "id": "f90c4ccb",
   "metadata": {},
   "outputs": [
    {
     "data": {
      "text/plain": [
       "2"
      ]
     },
     "execution_count": 10,
     "metadata": {},
     "output_type": "execute_result"
    }
   ],
   "source": [
    "FeatureFileProperties = gdal.Open(featuresNewImage)\n",
    "FeatureFileProperties.RasterCount\n",
    "FeatureFilePropertiesBand = FeatureFileProperties.GetRasterBand(1)\n",
    "FeatureFilePropertiesBand.DataType\n",
    "\n",
    "#unknown 0\n",
    "#8-byte  1\n",
    "#Uint16  2\n",
    "#Int16   3  WITH SIGN\n",
    "#UInt32  4\n",
    "#Int32   5\n"
   ]
  },
  {
   "cell_type": "code",
   "execution_count": 11,
   "id": "n_B73KRF9nHC",
   "metadata": {
    "id": "n_B73KRF9nHC"
   },
   "outputs": [],
   "source": [
    "#at k or size = 15 knossos kill the process.\n",
    "features = imageChipsFromFile(feature_file, x_size=9, y_size=9)# modify kSize at the end of the script"
   ]
  },
  {
   "cell_type": "code",
   "execution_count": 12,
   "id": "EWzBAgIF9xd7",
   "metadata": {
    "id": "EWzBAgIF9xd7"
   },
   "outputs": [],
   "source": [
    "features = np.rollaxis(features, 3, 1)"
   ]
  },
  {
   "cell_type": "code",
   "execution_count": 13,
   "id": "YQ87ARFL-E_C",
   "metadata": {
    "id": "YQ87ARFL-E_C"
   },
   "outputs": [],
   "source": [
    "# read the label file and reshape it\n",
    "ds, labels = raster.read(label_file)\n",
    "labels = labels.flatten()"
   ]
  },
  {
   "cell_type": "code",
   "execution_count": 14,
   "id": "C6t9ek8o-Lkd",
   "metadata": {
    "id": "C6t9ek8o-Lkd"
   },
   "outputs": [],
   "source": [
    "# check for irrelevant values (we are interested in 1s and non-1s)\n",
    "labels = (labels == 1).astype(int)"
   ]
  },
  {
   "cell_type": "code",
   "execution_count": 15,
   "id": "FGDD89q4-USN",
   "metadata": {
    "colab": {
     "base_uri": "https://localhost:8080/"
    },
    "id": "FGDD89q4-USN",
    "outputId": "02519339-30e4-4e08-c466-ff88923930f0"
   },
   "outputs": [
    {
     "name": "stdout",
     "output_type": "stream",
     "text": [
      "Input features shape: (3241980, 2, 9, 9)\n",
      "Input labels shape: (3241980,)\n",
      "Values in input features, min: 0 & max: 65535\n",
      "Values in input labels, min: 0 & max: 1\n"
     ]
    }
   ],
   "source": [
    "# print basic details\n",
    "print('Input features shape:', features.shape)\n",
    "print('Input labels shape:', labels.shape)\n",
    "print('Values in input features, min: %d & max: %d' % (features.min(), features.max()))\n",
    "print('Values in input labels, min: %d & max: %d' % (labels.min(), labels.max()))"
   ]
  },
  {
   "cell_type": "code",
   "execution_count": 16,
   "id": "9twsHP5P-ahF",
   "metadata": {
    "colab": {
     "base_uri": "https://localhost:8080/"
    },
    "id": "9twsHP5P-ahF",
    "outputId": "ba65f79b-3fec-4862-aa44-345c81b43ea7"
   },
   "outputs": [
    {
     "name": "stdout",
     "output_type": "stream",
     "text": [
      "Arrays saved at location /home/janaya/Downloads\n"
     ]
    }
   ],
   "source": [
    "# Save the arrays as .npy files\n",
    "np.save('CNN_7by7_features.npy', features) # uses lot of RAM, bit depth matters.\n",
    "np.save('CNN_7by7_labels.npy', labels)\n",
    "print('Arrays saved at location %s' % (os.getcwd()))"
   ]
  },
  {
   "cell_type": "code",
   "execution_count": 17,
   "id": "YR2Xf5vVAHm8",
   "metadata": {
    "id": "YR2Xf5vVAHm8"
   },
   "outputs": [],
   "source": [
    "import os, math, random, glob, time\n",
    "random.seed(2)\n",
    "import numpy as np\n",
    "import tensorflow as tf\n",
    "from sklearn.utils import resample\n",
    "from tensorflow import keras\n",
    "from tensorflow.keras.layers import Dense, Conv2D, MaxPooling2D, Dropout, Flatten\n",
    "from sklearn.metrics import confusion_matrix, precision_score, recall_score, f1_score"
   ]
  },
  {
   "cell_type": "code",
   "execution_count": 18,
   "id": "zFq_mUrpALt8",
   "metadata": {
    "id": "zFq_mUrpALt8"
   },
   "outputs": [],
   "source": [
    "# Load arrays from .npy files\n",
    "features = np.load('CNN_7by7_features.npy') # uses lot LOT! of RAM...\n",
    "labels = np.load('CNN_7by7_labels.npy')"
   ]
  },
  {
   "cell_type": "code",
   "execution_count": 19,
   "id": "mYsLF7mWAdYw",
   "metadata": {
    "colab": {
     "base_uri": "https://localhost:8080/"
    },
    "id": "mYsLF7mWAdYw",
    "outputId": "b315ea5d-1bed-4ad5-fc49-1ee1f6edd1cf"
   },
   "outputs": [
    {
     "name": "stdout",
     "output_type": "stream",
     "text": [
      "Number of records in each class:\n",
      "Built: 77916, Unbuilt: 3164064\n",
      "Number of records in balanced classes:\n",
      "Built: 77916, Unbuilt: 77916\n"
     ]
    }
   ],
   "source": [
    "# Separate and balance the classes\n",
    "built_features = features[labels==1]\n",
    "built_labels = labels[labels==1]\n",
    "\n",
    "unbuilt_features = features[labels==0]\n",
    "unbuilt_labels = labels[labels==0]\n",
    "\n",
    "print('Number of records in each class:')\n",
    "print('Built: %d, Unbuilt: %d' % (built_labels.shape[0], unbuilt_labels.shape[0]))\n",
    "\n",
    "\n",
    "# Downsample the majority class\n",
    "unbuilt_features = resample(unbuilt_features,\n",
    "                            replace = False, # sample without replacement\n",
    "                            n_samples = built_features.shape[0], # match minority n\n",
    "                            random_state = 2)\n",
    "\n",
    "unbuilt_labels = resample(unbuilt_labels,\n",
    "                          replace = False, # sample without replacement\n",
    "                          n_samples = built_features.shape[0], # match minority n\n",
    "                          random_state = 2)\n",
    "\n",
    "print('Number of records in balanced classes:')\n",
    "print('Built: %d, Unbuilt: %d' % (built_labels.shape[0], unbuilt_labels.shape[0]))"
   ]
  },
  {
   "cell_type": "code",
   "execution_count": 20,
   "id": "92U2CxrYAlud",
   "metadata": {
    "colab": {
     "base_uri": "https://localhost:8080/"
    },
    "id": "92U2CxrYAlud",
    "outputId": "c4929e76-b8d6-426e-aea3-1fa50bcb6280"
   },
   "outputs": [
    {
     "name": "stdout",
     "output_type": "stream",
     "text": [
      "New values in input features, min: 0 & max: 257\n"
     ]
    }
   ],
   "source": [
    "# Combine the balanced features\n",
    "features = np.concatenate((built_features, unbuilt_features), axis=0)\n",
    "labels = np.concatenate((built_labels, unbuilt_labels), axis=0)\n",
    "\n",
    "# Normalise the features\n",
    "features = features / 255.0\n",
    "print('New values in input features, min: %d & max: %d' % (features.min(), features.max()))\n",
    "\n",
    "\n",
    "\n",
    "# Define the function to split features and labels\n",
    "def train_test_split(features, labels, trainProp=0.6):\n",
    "    dataSize = features.shape[0]\n",
    "    sliceIndex = int(dataSize*trainProp)\n",
    "    randIndex = np.arange(dataSize)\n",
    "    random.shuffle(randIndex)\n",
    "    train_x = features[[randIndex[:sliceIndex]], :, :, :][0]\n",
    "    test_x = features[[randIndex[sliceIndex:]], :, :, :][0]\n",
    "    train_y = labels[randIndex[:sliceIndex]]\n",
    "    test_y = labels[randIndex[sliceIndex:]]\n",
    "    return(train_x, train_y, test_x, test_y)\n",
    "\n",
    "# Call the function to split the data\n",
    "train_x, train_y, test_x, test_y = train_test_split(features, labels)"
   ]
  },
  {
   "cell_type": "code",
   "execution_count": 21,
   "id": "HXJuKrv6AtfT",
   "metadata": {
    "colab": {
     "base_uri": "https://localhost:8080/"
    },
    "id": "HXJuKrv6AtfT",
    "outputId": "e550e465-b4e3-4dc4-f15d-2647d8d5087c"
   },
   "outputs": [
    {
     "name": "stdout",
     "output_type": "stream",
     "text": [
      "Reshaped split features: (93499, 9, 9, 2) (62333, 9, 9, 2)\n",
      "Split labels: (93499,) (62333,)\n",
      "Epoch 1/10\n",
      "2922/2922 [==============================] - 6s 2ms/step - loss: 0.6572 - accuracy: 0.6632\n",
      "Epoch 2/10\n",
      "2922/2922 [==============================] - 5s 2ms/step - loss: 0.3094 - accuracy: 0.8794\n",
      "Epoch 3/10\n",
      "2922/2922 [==============================] - 5s 2ms/step - loss: 0.2515 - accuracy: 0.9042\n",
      "Epoch 4/10\n",
      "2922/2922 [==============================] - 5s 2ms/step - loss: 0.2376 - accuracy: 0.9115\n",
      "Epoch 5/10\n",
      "2922/2922 [==============================] - 5s 2ms/step - loss: 0.2334 - accuracy: 0.9140\n",
      "Epoch 6/10\n",
      "2922/2922 [==============================] - 5s 2ms/step - loss: 0.2366 - accuracy: 0.9126\n",
      "Epoch 7/10\n",
      "2922/2922 [==============================] - 5s 2ms/step - loss: 0.2341 - accuracy: 0.9133\n",
      "Epoch 8/10\n",
      "2922/2922 [==============================] - 5s 2ms/step - loss: 0.2352 - accuracy: 0.9132\n",
      "Epoch 9/10\n",
      "2922/2922 [==============================] - 5s 2ms/step - loss: 0.2328 - accuracy: 0.9141\n",
      "Epoch 10/10\n",
      "2922/2922 [==============================] - 5s 2ms/step - loss: 0.2302 - accuracy: 0.9154\n"
     ]
    }
   ],
   "source": [
    "\n",
    "# Transpose the features to channel last format\n",
    "train_x = tf.transpose(train_x, [0, 2, 3, 1])\n",
    "test_x = tf.transpose(test_x, [0, 2, 3, 1])\n",
    "\n",
    "print('Reshaped split features:', train_x.shape, test_x.shape)\n",
    "print('Split labels:', train_y.shape, test_y.shape)\n",
    "_, rowSize, colSize, nBands = train_x.shape\n",
    "\n",
    "# Create a model\n",
    "model = keras.Sequential()\n",
    "model.add(Conv2D(32, kernel_size=1, padding='valid', activation='relu', input_shape=(rowSize, colSize, nBands)))\n",
    "model.add(Dropout(0.25))\n",
    "model.add(Conv2D(48, kernel_size=1, padding='valid', activation='relu'))\n",
    "model.add(Dropout(0.25))\n",
    "model.add(Flatten())\n",
    "model.add(Dense(64, activation='relu'))\n",
    "model.add(Dropout(0.5))\n",
    "model.add(Dense(2, activation='softmax'))\n",
    "\n",
    "# Run the model\n",
    "model.compile(loss='sparse_categorical_crossentropy', optimizer= 'rmsprop',metrics=['accuracy'])\n",
    "history = model.fit(train_x, train_y, epochs=10)"
   ]
  },
  {
   "cell_type": "code",
   "execution_count": 22,
   "id": "_RyyZUYoB36D",
   "metadata": {
    "colab": {
     "base_uri": "https://localhost:8080/"
    },
    "id": "_RyyZUYoB36D",
    "outputId": "5dcc369e-5bd9-4c42-d600-4d9b7049d59e"
   },
   "outputs": [
    {
     "name": "stdout",
     "output_type": "stream",
     "text": [
      "1948/1948 [==============================] - 1s 639us/step\n",
      "Confusion matrix:\n",
      " [[30362   884]\n",
      " [ 9643 21444]]\n",
      "\n",
      "P-Score: 0.960, R-Score: 0.690, F-Score: 0.803\n"
     ]
    }
   ],
   "source": [
    "# Predict for test data\n",
    "yTestPredicted = model.predict(test_x)\n",
    "yTestPredicted = yTestPredicted[:,1]\n",
    "\n",
    "# Calculate and display the error metrics\n",
    "yTestPredicted = (yTestPredicted>0.95).astype(int)  #large predicted values--> hi omission and low comission\n",
    "cMatrix = confusion_matrix(test_y, yTestPredicted)\n",
    "pScore = precision_score(test_y, yTestPredicted)\n",
    "rScore = recall_score(test_y, yTestPredicted)\n",
    "fScore = f1_score(test_y, yTestPredicted)\n",
    "\n",
    "print(\"Confusion matrix:\\n\", cMatrix)\n",
    "print(\"\\nP-Score: %.3f, R-Score: %.3f, F-Score: %.3f\" % (pScore, rScore, fScore))\n",
    "\n",
    "# Save the model inside a folder to use later\n",
    "if not os.path.exists(os.path.join(os.getcwd(), 'trained_models')):\n",
    "     os.mkdir(os.path.join(os.getcwd(), 'trained_models'))\n",
    "\n",
    "\n",
    "model.save('/home/janaya/NeuralNetworks/trained_models/240216_CNN_PScore%.3f_RScore%.3f_FScore%.3f.h5' % (pScore, rScore, fScore))\n",
    "\n",
    "#Find this new model and replace the name in the \"model\" variable.\n",
    "\n",
    "import copy\n",
    "import os, math, random, glob, time\n",
    "random.seed(2)\n",
    "import numpy as np\n",
    "\n",
    "from pyrsgis import raster\n",
    "from pyrsgis.ml import imageChipsFromFile\n",
    "from sklearn.utils import resample "
   ]
  },
  {
   "cell_type": "code",
   "execution_count": 23,
   "id": "aO-gFnQzC8b4",
   "metadata": {
    "colab": {
     "base_uri": "https://localhost:8080/"
    },
    "id": "aO-gFnQzC8b4",
    "outputId": "32fe5d7c-a5ff-43ba-8f1d-ea305358f454"
   },
   "outputs": [
    {
     "name": "stdout",
     "output_type": "stream",
     "text": [
      "total 712400\r\n",
      "-rw-rw-r-- 1 janaya janaya  274144 sep 26  2023 230926_CNN_AQ_PScore0.955_RScore0.991_FScore0.973.h5\r\n",
      "-rw-rw-r-- 1 janaya janaya  274144 sep 26  2023 230926_CNN_AQ_PScore0.911_RScore0.997_FScore0.952.h5\r\n",
      "-rw-rw-r-- 1 janaya janaya  274144 sep 26  2023 230926_CNN_AQ_PScore0.925_RScore0.997_FScore0.960.h5\r\n",
      "-rw-rw-r-- 1 janaya janaya  274144 sep 26  2023 230926_CNN_AQ_PScore0.943_RScore0.992_FScore0.967.h5\r\n",
      "-rw-rw-r-- 1 janaya janaya  274144 sep 27  2023 230926_CNN_AQ_PScore0.927_RScore0.998_FScore0.961.h5\r\n",
      "-rw-rw-r-- 1 janaya janaya  274144 oct  3  2023 230926_CNN_AQ_PScore0.937_RScore0.996_FScore0.966.h5\r\n",
      "-rw-rw-r-- 1 janaya janaya  274144 oct  3  2023 231003_CNN_AQ_PScore0.937_RScore0.996_FScore0.966.h5\r\n",
      "-rw-rw-r-- 1 janaya janaya  274144 oct  3  2023 231003_CNN_AQ_PScore0.886_RScore0.998_FScore0.939.h5\r\n",
      "-rw-rw-r-- 1 janaya janaya  274144 oct  6  2023 231006_CNN_AQ_PScore0.915_RScore0.989_FScore0.950.h5\r\n",
      "-rw-rw-r-- 1 janaya janaya  274144 oct  9  2023 231006_CNN_AQ_PScore0.941_RScore0.962_FScore0.951.h5\r\n",
      "-rw-rw-r-- 1 janaya janaya  274144 oct  9  2023 231006_CNN_AQ_PScore0.931_RScore0.977_FScore0.954.h5\r\n",
      "-rw-rw-r-- 1 janaya janaya  274144 oct  9  2023 231006_CNN_AQ_PScore0.922_RScore0.979_FScore0.950.h5\r\n",
      "-rw-rw-r-- 1 janaya janaya  274144 oct  9  2023 231006_CNN_AQ_PScore0.912_RScore0.989_FScore0.949.h5\r\n",
      "-rw-rw-r-- 1 janaya janaya  274144 oct  9  2023 231006_CNN_AQ_PScore0.915_RScore0.989_FScore0.951.h5\r\n",
      "-rw-rw-r-- 1 janaya janaya  274144 oct  9  2023 231006_CNN_AQ_PScore0.916_RScore0.988_FScore0.951.h5\r\n",
      "-rw-rw-r-- 1 janaya janaya  274144 oct  9  2023 231006_CNN_AQ_PScore0.955_RScore0.912_FScore0.933.h5\r\n",
      "-rw-rw-r-- 1 janaya janaya  274144 oct  9  2023 231006_CNN_AQ_PScore0.927_RScore0.981_FScore0.954.h5\r\n",
      "-rw-rw-r-- 1 janaya janaya  274144 oct  9  2023 231006_CNN_AQ_PScore0.924_RScore0.986_FScore0.954.h5\r\n",
      "-rw-rw-r-- 1 janaya janaya  274144 oct  9  2023 231006_CNN_AQ_PScore0.935_RScore0.974_FScore0.954.h5\r\n",
      "-rw-rw-r-- 1 janaya janaya  274144 oct 10  2023 231006_CNN_AQ_PScore0.921_RScore0.983_FScore0.951.h5\r\n",
      "-rw-rw-r-- 1 janaya janaya  274144 oct 10  2023 231010_CNN_AQ_PScore0.921_RScore0.983_FScore0.951.h5\r\n",
      "-rw-rw-r-- 1 janaya janaya 1257184 oct 10  2023 231010_CNN_AQ_PScore0.906_RScore0.990_FScore0.946.h5\r\n",
      "-rw-rw-r-- 1 janaya janaya  667360 oct 10  2023 231010_CNN_AQ_PScore0.974_RScore0.680_FScore0.801.h5\r\n",
      "-rw-rw-r-- 1 janaya janaya  667360 oct 10  2023 231010_CNN_AQ_PScore0.915_RScore0.987_FScore0.949.h5\r\n",
      "-rw-rw-r-- 1 janaya janaya  274144 oct 10  2023 231010_CNN_AQ_PScore0.955_RScore0.899_FScore0.926.h5\r\n",
      "-rw-rw-r-- 1 janaya janaya  274144 oct 10  2023 231010_CNN_AQ_PScore0.935_RScore0.869_FScore0.901.h5\r\n",
      "-rw-rw-r-- 1 janaya janaya  667360 oct 10  2023 231010_CNN_AQ_PScore0.972_RScore0.319_FScore0.481.h5\r\n",
      "-rw-rw-r-- 1 janaya janaya 1257184 oct 10  2023 231010_CNN_AQ_PScore0.907_RScore0.986_FScore0.945.h5\r\n",
      "-rw-rw-r-- 1 janaya janaya 1257184 oct 10  2023 231010_CNN_AQ_PScore0.916_RScore0.961_FScore0.938.h5\r\n",
      "-rw-rw-r-- 1 janaya janaya 2043616 oct 10  2023 231010_CNN_AQ_PScore0.926_RScore0.954_FScore0.940.h5\r\n",
      "-rw-rw-r-- 1 janaya janaya 2043616 oct 10  2023 231010_CNN_AQ_PScore0.935_RScore0.890_FScore0.912.h5\r\n",
      "-rw-rw-r-- 1 janaya janaya 2043616 oct 10  2023 231010_CNN_AQ_PScore0.841_RScore0.991_FScore0.910.h5\r\n",
      "-rw-rw-r-- 1 janaya janaya 2043616 oct 10  2023 231010_CNN_AQ_PScore0.906_RScore0.968_FScore0.936.h5\r\n",
      "-rw-rw-r-- 1 janaya janaya 2043616 oct 10  2023 231010_CNN_AQ_PScore0.829_RScore0.993_FScore0.904.h5\r\n",
      "-rw-rw-r-- 1 janaya janaya 2043112 nov  1  2023 231010_CNN_AQ_PScore0.930_RScore0.968_FScore0.949.h5\r\n",
      "-rw-rw-r-- 1 janaya janaya 2043112 nov  1  2023 231101_CNN_AQ_PScore0.930_RScore0.968_FScore0.949.h5\r\n",
      "-rw-rw-r-- 1 janaya janaya 2043112 nov  2  2023 231101_CNN_AQ_PScore0.918_RScore0.988_FScore0.951.h5\r\n",
      "-rw-rw-r-- 1 janaya janaya 2043112 nov  2  2023 231102_CNN_AQ_PScore0.918_RScore0.988_FScore0.951.h5\r\n",
      "-rw-rw-r-- 1 janaya janaya 2043112 nov  2  2023 231102_CNN_AQ_PScore0.921_RScore0.975_FScore0.947.h5\r\n",
      "-rw-rw-r-- 1 janaya janaya 2043112 nov  2  2023 231102_CNN_AQ_PScore0.918_RScore0.989_FScore0.952.h5\r\n",
      "-rw-rw-r-- 1 janaya janaya 2043112 nov  2  2023 231102_CNN_AQ_PScore0.919_RScore0.987_FScore0.952.h5\r\n",
      "-rw-rw-r-- 1 janaya janaya 2043616 nov  2  2023 231102_v1_CNN_AQ_PScore0.972_RScore0.980_FScore0.976.h5\r\n",
      "-rw-rw-r-- 1 janaya janaya 2043616 nov  3  2023 231103_CNN_AQ_PScore0.940_RScore0.977_FScore0.958.h5\r\n",
      "-rw-rw-r-- 1 janaya janaya 2043616 nov  3  2023 231103_CNN_AQ_PScore0.941_RScore0.977_FScore0.959.h5\r\n",
      "-rw-rw-r-- 1 janaya janaya 2043616 nov  7  2023 231103_CNN_AQ_PScore0.947_RScore0.973_FScore0.960.h5\r\n",
      "-rw-rw-r-- 1 janaya janaya 2043616 nov  7  2023 231107_CNN_AQ_PScore0.950_RScore0.968_FScore0.959.h5\r\n",
      "-rw-rw-r-- 1 janaya janaya 2043616 nov  7  2023 231107_CNN_AQ_PScore0.944_RScore0.979_FScore0.961.h5\r\n",
      "-rw-rw-r-- 1 janaya janaya 2043616 nov  7  2023 231107_CNN_AQ_PScore0.941_RScore0.978_FScore0.960.h5\r\n",
      "-rw-rw-r-- 1 janaya janaya 2043616 nov  8  2023 231107_CNN_AQ_PScore0.945_RScore0.961_FScore0.953.h5\r\n",
      "-rw-rw-r-- 1 janaya janaya 2043616 nov  8  2023 231108_CNN_AQ_PScore0.945_RScore0.961_FScore0.953.h5\r\n",
      "-rw-rw-r-- 1 janaya janaya 2043616 nov  9  2023 231108_CNN_AQ_PScore0.946_RScore0.958_FScore0.952.h5\r\n",
      "-rw-rw-r-- 1 janaya janaya 2043616 nov  9  2023 231108_CNN_AQ_PScore0.937_RScore0.980_FScore0.958.h5\r\n",
      "-rw-rw-r-- 1 janaya janaya 2043616 nov  9  2023 231108_CNN_AQ_PScore0.933_RScore0.981_FScore0.956.h5\r\n",
      "-rw-rw-r-- 1 janaya janaya 2043616 nov 10  2023 231108_CNN_AQ_PScore0.941_RScore0.965_FScore0.953.h5\r\n",
      "-rw-rw-r-- 1 janaya janaya 2043616 nov 15  2023 231115_CNN_AQ_PScore0.945_RScore0.957_FScore0.951.h5\r\n",
      "-rw-rw-r-- 1 janaya janaya 2043616 nov 16  2023 231116_CNN_AQ_PScore0.902_RScore0.987_FScore0.943.h5\r\n",
      "-rw-rw-r-- 1 janaya janaya 2042584 nov 16  2023 231116_CNN_AQ_PScore0.986_RScore0.498_FScore0.662.h5\r\n",
      "-rw-rw-r-- 1 janaya janaya 2042584 nov 16  2023 231116_CNN_AQ_PScore0.714_RScore0.990_FScore0.830.h5\r\n",
      "-rw-rw-r-- 1 janaya janaya 2042584 nov 16  2023 231116_CNN_AQ_PScore0.958_RScore0.862_FScore0.907.h5\r\n",
      "-rw-rw-r-- 1 janaya janaya 2042584 nov 16  2023 231116_CNN_AQ_PScore0.895_RScore0.965_FScore0.929.h5\r\n",
      "-rw-rw-r-- 1 janaya janaya 2042584 nov 16  2023 231116_CNN_AQ_PScore0.949_RScore0.890_FScore0.919.h5\r\n",
      "-rw-rw-r-- 1 janaya janaya 2042584 nov 16  2023 231116_CNN_AQ_PScore0.939_RScore0.911_FScore0.925.h5\r\n",
      "-rw-rw-r-- 1 janaya janaya 2043616 nov 21  2023 231116_CNN_AQ_PScore0.857_RScore0.980_FScore0.915.h5\r\n",
      "-rw-rw-r-- 1 janaya janaya 2043616 nov 21  2023 231116_CNN_AQ_PScore0.950_RScore0.880_FScore0.914.h5\r\n",
      "-rw-rw-r-- 1 janaya janaya 2043616 nov 21  2023 231116_CNN_AQ_PScore0.983_RScore0.581_FScore0.730.h5\r\n",
      "-rw-rw-r-- 1 janaya janaya 2043616 nov 22  2023 231122_CNN_AQ_PScore0.982_RScore0.578_FScore0.728.h5\r\n",
      "-rw-rw-r-- 1 janaya janaya 2043616 nov 22  2023 231122_CNN_AQ_PScore0.973_RScore0.753_FScore0.849.h5\r\n",
      "-rw-rw-r-- 1 janaya janaya 2043616 nov 23  2023 231123_CNN_AQ_PScore0.978_RScore0.690_FScore0.809.h5\r\n",
      "-rw-rw-r-- 1 janaya janaya 2043616 ene 25  2024 240125_CNN_AQ_PScore0.996_RScore0.841_FScore0.912.h5\r\n",
      "-rw-rw-r-- 1 janaya janaya 2043616 ene 25  2024 240125_CNN_AQ_PScore0.995_RScore0.868_FScore0.927.h5\r\n",
      "-rw-rw-r-- 1 janaya janaya 2043616 ene 25  2024 240125_CNN_AQ_PScore0.993_RScore0.905_FScore0.947.h5\r\n",
      "-rw-rw-r-- 1 janaya janaya 2043616 ene 26  2024 240125_CNN_AQ_PScore0.990_RScore0.934_FScore0.961.h5\r\n",
      "-rw-rw-r-- 1 janaya janaya 2043616 feb  2  2024 240202_CNN_AQ_PScore0.990_RScore0.920_FScore0.954.h5\r\n",
      "-rw-rw-r-- 1 janaya janaya 2043616 feb  2  2024 240202_CNN_PScore0.990_RScore0.920_FScore0.954.h5\r\n",
      "-rw-rw-r-- 1 janaya janaya 2043616 feb  2  2024 240202_CNN_PScore0.998_RScore0.671_FScore0.802.h5\r\n",
      "-rw-rw-r-- 1 janaya janaya 2043568 feb  5  2024 240205_CNN_PScore0.976_RScore0.918_FScore0.946.h5\r\n",
      "-rw-rw-r-- 1 janaya janaya 2043568 feb  6  2024 240205_CNN_PScore0.987_RScore0.543_FScore0.701.h5\r\n",
      "-rw-rw-r-- 1 janaya janaya 2043568 feb  6  2024 240206_CNN_PScore0.987_RScore0.543_FScore0.701.h5\r\n",
      "-rw-rw-r-- 1 janaya janaya 2043568 feb  8  2024 240208_CNN_PScore0.982_RScore0.630_FScore0.768.h5\r\n",
      "-rw-rw-r-- 1 janaya janaya 2043568 feb  8  2024 240208_CNN_PScore0.980_RScore0.651_FScore0.783.h5\r\n",
      "-rw-rw-r-- 1 janaya janaya 2043568 feb  8  2024 240208_CNN_PScore0.990_RScore0.449_FScore0.618.h5\r\n",
      "-rw-rw-r-- 1 janaya janaya 2043568 feb  8  2024 240208_CNN_PScore0.982_RScore0.621_FScore0.761.h5\r\n",
      "-rw-rw-r-- 1 janaya janaya 2043568 feb  8  2024 240208_CNN_PScore0.986_RScore0.556_FScore0.711.h5\r\n",
      "-rw-rw-r-- 1 janaya janaya 2043568 feb  8  2024 240208_CNN_PScore0.977_RScore0.674_FScore0.798.h5\r\n",
      "-rw-rw-r-- 1 janaya janaya 2043568 feb  8  2024 240208_CNN_PScore0.984_RScore0.610_FScore0.753.h5\r\n",
      "-rw-rw-r-- 1 janaya janaya 2043568 feb  8  2024 240208_CNN_PScore0.982_RScore0.644_FScore0.778.h5\r\n",
      "-rw-rw-r-- 1 janaya janaya 2043568 feb  8  2024 240208_CNN_PScore0.979_RScore0.657_FScore0.787.h5\r\n",
      "-rw-rw-r-- 1 janaya janaya 2043568 feb  8  2024 240208_CNN_PScore0.987_RScore0.563_FScore0.717.h5\r\n",
      "-rw-rw-r-- 1 janaya janaya 2043568 feb  8  2024 240208_CNN_PScore0.989_RScore0.448_FScore0.617.h5\r\n",
      "-rw-rw-r-- 1 janaya janaya 2043568 feb  8  2024 240208_CNN_PScore0.982_RScore0.611_FScore0.753.h5\r\n",
      "-rw-rw-r-- 1 janaya janaya 2043568 feb  8  2024 240208_CNN_PScore0.987_RScore0.565_FScore0.719.h5\r\n",
      "-rw-rw-r-- 1 janaya janaya 2043568 feb  8  2024 240208_CNN_PScore0.982_RScore0.642_FScore0.777.h5\r\n",
      "-rw-rw-r-- 1 janaya janaya 2043568 feb  9  2024 240208_CNN_PScore0.987_RScore0.564_FScore0.718.h5\r\n",
      "-rw-rw-r-- 1 janaya janaya 2043568 feb  9  2024 240208_CNN_PScore0.986_RScore0.577_FScore0.728.h5\r\n",
      "-rw-rw-r-- 1 janaya janaya 2043568 feb  9  2024 240208_CNN_PScore0.980_RScore0.632_FScore0.768.h5\r\n",
      "-rw-rw-r-- 1 janaya janaya 2043568 feb  9  2024 240208_CNN_PScore0.981_RScore0.649_FScore0.782.h5\r\n",
      "-rw-rw-r-- 1 janaya janaya 2043568 feb  9  2024 240208_CNN_PScore0.979_RScore0.674_FScore0.798.h5\r\n",
      "-rw-rw-r-- 1 janaya janaya 2043568 feb  9  2024 240208_CNN_PScore0.987_RScore0.558_FScore0.713.h5\r\n",
      "-rw-rw-r-- 1 janaya janaya 2043568 feb  9  2024 240208_CNN_PScore0.990_RScore0.494_FScore0.659.h5\r\n",
      "-rw-rw-r-- 1 janaya janaya 2043568 feb  9  2024 240208_CNN_PScore0.975_RScore0.714_FScore0.825.h5\r\n",
      "-rw-rw-r-- 1 janaya janaya 2043568 feb  9  2024 240208_CNN_PScore0.978_RScore0.656_FScore0.785.h5\r\n",
      "-rw-rw-r-- 1 janaya janaya 2043568 feb  9  2024 240208_CNN_PScore0.984_RScore0.621_FScore0.761.h5\r\n",
      "-rw-rw-r-- 1 janaya janaya 2043568 feb  9  2024 240208_CNN_PScore0.982_RScore0.651_FScore0.783.h5\r\n",
      "-rw-rw-r-- 1 janaya janaya 2043568 feb  9  2024 240208_CNN_PScore0.967_RScore0.747_FScore0.843.h5\r\n",
      "-rw-rw-r-- 1 janaya janaya 2043568 feb  9  2024 240208_CNN_PScore0.971_RScore0.767_FScore0.857.h5\r\n",
      "-rw-rw-r-- 1 janaya janaya 2043568 feb  9  2024 240208_CNN_PScore0.983_RScore0.636_FScore0.773.h5\r\n",
      "-rw-rw-r-- 1 janaya janaya 2043568 feb  9  2024 240208_CNN_PScore0.988_RScore0.533_FScore0.693.h5\r\n",
      "-rw-rw-r-- 1 janaya janaya 2043568 feb  9  2024 240208_CNN_PScore0.992_RScore0.345_FScore0.512.h5\r\n",
      "-rw-rw-r-- 1 janaya janaya 2043568 feb  9  2024 240208_CNN_PScore0.964_RScore0.801_FScore0.875.h5\r\n",
      "-rw-rw-r-- 1 janaya janaya 2043568 feb  9  2024 240208_CNN_PScore0.988_RScore0.519_FScore0.680.h5\r\n",
      "-rw-rw-r-- 1 janaya janaya 2043568 feb  9  2024 240208_CNN_PScore0.986_RScore0.569_FScore0.721.h5\r\n",
      "-rw-rw-r-- 1 janaya janaya 2043568 feb  9  2024 240208_CNN_PScore0.987_RScore0.522_FScore0.683.h5\r\n",
      "-rw-rw-r-- 1 janaya janaya 2043568 feb  9  2024 240208_CNN_PScore0.980_RScore0.653_FScore0.784.h5\r\n",
      "-rw-rw-r-- 1 janaya janaya 2043568 feb  9  2024 240208_CNN_PScore0.982_RScore0.558_FScore0.712.h5\r\n",
      "-rw-rw-r-- 1 janaya janaya 2043568 feb  9  2024 240208_CNN_PScore0.988_RScore0.521_FScore0.682.h5\r\n",
      "-rw-rw-r-- 1 janaya janaya 2043568 feb  9  2024 240208_CNN_PScore0.972_RScore0.742_FScore0.842.h5\r\n",
      "-rw-rw-r-- 1 janaya janaya 2043568 feb  9  2024 240208_CNN_PScore0.974_RScore0.709_FScore0.820.h5\r\n",
      "-rw-rw-r-- 1 janaya janaya 2043568 feb  9  2024 240208_CNN_PScore0.970_RScore0.749_FScore0.845.h5\r\n",
      "-rw-rw-r-- 1 janaya janaya 2043568 feb 12  2024 240208_CNN_PScore0.979_RScore0.700_FScore0.816.h5\r\n",
      "-rw-rw-r-- 1 janaya janaya 2043568 feb 12  2024 240212_CNN_PScore0.982_RScore0.663_FScore0.792.h5\r\n",
      "-rw-rw-r-- 1 janaya janaya 2043568 feb 12  2024 240212_CNN_PScore0.984_RScore0.607_FScore0.751.h5\r\n",
      "-rw-rw-r-- 1 janaya janaya 2043568 feb 12  2024 240212_CNN_PScore0.980_RScore0.660_FScore0.789.h5\r\n",
      "-rw-rw-r-- 1 janaya janaya 2043568 feb 12  2024 240212_CNN_PScore0.983_RScore0.651_FScore0.783.h5\r\n",
      "-rw-rw-r-- 1 janaya janaya 2043568 feb 12  2024 240212_CNN_PScore0.981_RScore0.684_FScore0.806.h5\r\n",
      "-rw-rw-r-- 1 janaya janaya 2043568 feb 12  2024 240212_CNN_PScore0.986_RScore0.594_FScore0.741.h5\r\n",
      "-rw-rw-r-- 1 janaya janaya 2043568 feb 12  2024 240212_CNN_PScore0.980_RScore0.669_FScore0.795.h5\r\n",
      "-rw-rw-r-- 1 janaya janaya 2043568 feb 12  2024 240212_CNN_PScore0.986_RScore0.602_FScore0.748.h5\r\n",
      "-rw-rw-r-- 1 janaya janaya 2043568 feb 12  2024 240212_CNN_PScore0.978_RScore0.714_FScore0.825.h5\r\n",
      "-rw-rw-r-- 1 janaya janaya 2043568 feb 12  2024 240212_CNN_PScore0.976_RScore0.716_FScore0.826.h5\r\n",
      "-rw-rw-r-- 1 janaya janaya 2043568 feb 12  2024 240212_CNN_PScore0.987_RScore0.610_FScore0.754.h5\r\n",
      "-rw-rw-r-- 1 janaya janaya 2043568 feb 12  2024 240212_CNN_PScore0.986_RScore0.615_FScore0.758.h5\r\n",
      "-rw-rw-r-- 1 janaya janaya 2043568 feb 12  2024 240212_CNN_PScore0.969_RScore0.773_FScore0.860.h5\r\n",
      "-rw-rw-r-- 1 janaya janaya 2043568 feb 12  2024 240212_CNN_PScore0.988_RScore0.551_FScore0.707.h5\r\n",
      "-rw-rw-r-- 1 janaya janaya 2043568 feb 12  2024 240212_CNN_PScore0.983_RScore0.636_FScore0.772.h5\r\n",
      "-rw-rw-r-- 1 janaya janaya 2043568 feb 12  2024 240212_CNN_PScore0.982_RScore0.668_FScore0.795.h5\r\n",
      "-rw-rw-r-- 1 janaya janaya 2043568 feb 12  2024 240212_CNN_PScore0.966_RScore0.809_FScore0.881.h5\r\n",
      "-rw-rw-r-- 1 janaya janaya 2043568 feb 12  2024 240212_CNN_PScore0.975_RScore0.723_FScore0.831.h5\r\n",
      "-rw-rw-r-- 1 janaya janaya 2043568 feb 12  2024 240212_CNN_PScore0.986_RScore0.616_FScore0.758.h5\r\n",
      "-rw-rw-r-- 1 janaya janaya 2043568 feb 12  2024 240212_CNN_PScore0.988_RScore0.554_FScore0.710.h5\r\n",
      "-rw-rw-r-- 1 janaya janaya 2043568 feb 12  2024 240212_CNN_PScore0.979_RScore0.694_FScore0.812.h5\r\n",
      "-rw-rw-r-- 1 janaya janaya 2043568 feb 12  2024 240212_CNN_PScore0.977_RScore0.701_FScore0.816.h5\r\n",
      "-rw-rw-r-- 1 janaya janaya 2043568 feb 12  2024 240212_CNN_PScore0.979_RScore0.718_FScore0.828.h5\r\n",
      "-rw-rw-r-- 1 janaya janaya 2043568 feb 12  2024 240212_CNN_PScore0.990_RScore0.492_FScore0.657.h5\r\n",
      "-rw-rw-r-- 1 janaya janaya 2043568 feb 12  2024 240212_CNN_PScore0.987_RScore0.574_FScore0.726.h5\r\n",
      "-rw-rw-r-- 1 janaya janaya 2043568 feb 12  2024 240212_CNN_PScore0.980_RScore0.670_FScore0.796.h5\r\n",
      "-rw-rw-r-- 1 janaya janaya 2043568 feb 12  2024 240212_CNN_PScore0.985_RScore0.622_FScore0.762.h5\r\n",
      "-rw-rw-r-- 1 janaya janaya 2043568 feb 13  2024 240212_CNN_PScore0.986_RScore0.590_FScore0.738.h5\r\n",
      "-rw-rw-r-- 1 janaya janaya 2043568 feb 13  2024 240212_CNN_PScore0.980_RScore0.702_FScore0.818.h5\r\n",
      "-rw-rw-r-- 1 janaya janaya 2043568 feb 13  2024 240212_CNN_PScore0.987_RScore0.588_FScore0.737.h5\r\n",
      "-rw-rw-r-- 1 janaya janaya 2043568 feb 16  2024 240212_CNN_PScore0.982_RScore0.548_FScore0.704.h5\r\n",
      "-rw-rw-r-- 1 janaya janaya 2043568 feb 16  2024 240216_CNN_PScore0.982_RScore0.548_FScore0.704.h5\r\n",
      "-rw-rw-r-- 1 janaya janaya 2043568 feb 23  2024 240216_CNN_PScore0.984_RScore0.548_FScore0.704.h5\r\n",
      "-rw-rw-r-- 1 janaya janaya 2043568 feb 23  2024 240216_CNN_PScore0.989_RScore0.428_FScore0.597.h5\r\n",
      "-rw-rw-r-- 1 janaya janaya 2043568 feb 23  2024 240216_CNN_PScore0.976_RScore0.631_FScore0.766.h5\r\n",
      "-rw-rw-r-- 1 janaya janaya 2043568 feb 23  2024 240216_CNN_PScore0.976_RScore0.597_FScore0.741.h5\r\n",
      "-rw-rw-r-- 1 janaya janaya 2043568 feb 23  2024 240216_CNN_PScore0.982_RScore0.542_FScore0.698.h5\r\n",
      "-rw-rw-r-- 1 janaya janaya 2043568 feb 23  2024 240216_CNN_PScore0.989_RScore0.463_FScore0.631.h5\r\n",
      "-rw-rw-r-- 1 janaya janaya 2043568 feb 23  2024 240216_CNN_PScore0.984_RScore0.537_FScore0.695.h5\r\n",
      "-rw-rw-r-- 1 janaya janaya 2043568 feb 23  2024 240216_CNN_PScore0.972_RScore0.655_FScore0.782.h5\r\n",
      "-rw-rw-r-- 1 janaya janaya 2043568 feb 23  2024 240216_CNN_PScore0.988_RScore0.472_FScore0.639.h5\r\n",
      "-rw-rw-r-- 1 janaya janaya 2043568 feb 23  2024 240216_CNN_PScore0.978_RScore0.580_FScore0.728.h5\r\n",
      "-rw-rw-r-- 1 janaya janaya 2043568 feb 23  2024 240216_CNN_PScore0.979_RScore0.578_FScore0.726.h5\r\n",
      "-rw-rw-r-- 1 janaya janaya 2043568 feb 23  2024 240216_CNN_PScore0.990_RScore0.426_FScore0.596.h5\r\n",
      "-rw-rw-r-- 1 janaya janaya 2043568 feb 23  2024 240216_CNN_PScore0.987_RScore0.516_FScore0.678.h5\r\n",
      "-rw-rw-r-- 1 janaya janaya 2043568 feb 23  2024 240216_CNN_PScore0.976_RScore0.634_FScore0.769.h5\r\n",
      "-rw-rw-r-- 1 janaya janaya 2043568 feb 23  2024 240216_CNN_PScore0.976_RScore0.608_FScore0.749.h5\r\n",
      "-rw-rw-r-- 1 janaya janaya 2043568 feb 23  2024 240216_CNN_PScore0.990_RScore0.447_FScore0.616.h5\r\n",
      "-rw-rw-r-- 1 janaya janaya 2043568 feb 23  2024 240216_CNN_PScore0.993_RScore0.302_FScore0.463.h5\r\n",
      "-rw-rw-r-- 1 janaya janaya 2043568 feb 23  2024 240216_CNN_PScore0.983_RScore0.533_FScore0.691.h5\r\n",
      "-rw-rw-r-- 1 janaya janaya 2043568 feb 26  2024 240216_CNN_PScore0.981_RScore0.585_FScore0.733.h5\r\n",
      "-rw-rw-r-- 1 janaya janaya 2043568 feb 26  2024 240216_CNN_PScore0.988_RScore0.480_FScore0.646.h5\r\n",
      "-rw-rw-r-- 1 janaya janaya 2043568 feb 26  2024 240216_CNN_PScore0.980_RScore0.583_FScore0.731.h5\r\n",
      "-rw-rw-r-- 1 janaya janaya 2043568 feb 26  2024 240216_CNN_PScore0.988_RScore0.479_FScore0.645.h5\r\n",
      "-rw-rw-r-- 1 janaya janaya 2043568 feb 26  2024 240216_CNN_PScore0.981_RScore0.575_FScore0.725.h5\r\n",
      "-rw-rw-r-- 1 janaya janaya 2043568 feb 26  2024 240216_CNN_PScore0.973_RScore0.630_FScore0.765.h5\r\n",
      "-rw-rw-r-- 1 janaya janaya 2043568 feb 26  2024 240216_CNN_PScore0.984_RScore0.517_FScore0.678.h5\r\n",
      "-rw-rw-r-- 1 janaya janaya 2043568 feb 26  2024 240216_CNN_PScore0.992_RScore0.376_FScore0.545.h5\r\n",
      "-rw-rw-r-- 1 janaya janaya 2043568 feb 26  2024 240216_CNN_PScore0.980_RScore0.557_FScore0.710.h5\r\n",
      "-rw-rw-r-- 1 janaya janaya 2043568 feb 26  2024 240216_CNN_PScore0.986_RScore0.486_FScore0.651.h5\r\n",
      "-rw-rw-r-- 1 janaya janaya 2043568 feb 26  2024 240216_CNN_PScore0.968_RScore0.669_FScore0.791.h5\r\n",
      "-rw-rw-r-- 1 janaya janaya 2043568 feb 26  2024 240212_CNN_PScore0.973_RScore0.748_FScore0.845.h5\r\n",
      "-rw-rw-r-- 1 janaya janaya 2043568 feb 26  2024 240216_CNN_PScore0.992_RScore0.371_FScore0.540.h5\r\n",
      "-rw-rw-r-- 1 janaya janaya 2043568 feb 26  2024 240216_CNN_PScore0.984_RScore0.542_FScore0.699.h5\r\n",
      "-rw-rw-r-- 1 janaya janaya 2043568 feb 26  2024 240216_CNN_PScore0.968_RScore0.689_FScore0.805.h5\r\n",
      "-rw-rw-r-- 1 janaya janaya 2043568 feb 26  2024 240216_CNN_PScore0.987_RScore0.478_FScore0.644.h5\r\n",
      "-rw-rw-r-- 1 janaya janaya 2043568 feb 26  2024 240216_CNN_PScore0.986_RScore0.493_FScore0.657.h5\r\n",
      "-rw-rw-r-- 1 janaya janaya 2043568 feb 26  2024 240216_CNN_PScore0.978_RScore0.582_FScore0.730.h5\r\n",
      "-rw-rw-r-- 1 janaya janaya 2043568 feb 26  2024 240216_CNN_PScore0.981_RScore0.571_FScore0.722.h5\r\n",
      "-rw-rw-r-- 1 janaya janaya 2043568 feb 26  2024 240216_CNN_PScore0.990_RScore0.467_FScore0.634.h5\r\n",
      "-rw-rw-r-- 1 janaya janaya 2043568 feb 26  2024 240216_CNN_PScore0.973_RScore0.656_FScore0.784.h5\r\n",
      "-rw-rw-r-- 1 janaya janaya 2043568 feb 26  2024 240216_CNN_PScore0.968_RScore0.668_FScore0.790.h5\r\n",
      "-rw-rw-r-- 1 janaya janaya 2043568 feb 27  2024 240216_CNN_PScore0.965_RScore0.671_FScore0.792.h5\r\n",
      "-rw-rw-r-- 1 janaya janaya 2043568 feb 27  2024 240216_CNN_PScore0.975_RScore0.559_FScore0.711.h5\r\n",
      "-rw-rw-r-- 1 janaya janaya 2043568 feb 27  2024 240216_CNN_PScore0.977_RScore0.582_FScore0.729.h5\r\n",
      "-rw-rw-r-- 1 janaya janaya 2043568 feb 27  2024 240216_CNN_PScore0.976_RScore0.582_FScore0.729.h5\r\n",
      "-rw-rw-r-- 1 janaya janaya 2043568 feb 27  2024 240216_CNN_PScore0.986_RScore0.467_FScore0.633.h5\r\n",
      "-rw-rw-r-- 1 janaya janaya 2043568 feb 27  2024 240216_CNN_PScore0.986_RScore0.473_FScore0.639.h5\r\n",
      "-rw-rw-r-- 1 janaya janaya 2043568 feb 27  2024 240216_CNN_PScore0.975_RScore0.589_FScore0.735.h5\r\n",
      "-rw-rw-r-- 1 janaya janaya 2043568 feb 27  2024 240216_CNN_PScore0.982_RScore0.544_FScore0.700.h5\r\n",
      "-rw-rw-r-- 1 janaya janaya 2043568 feb 27  2024 240216_CNN_PScore0.993_RScore0.285_FScore0.443.h5\r\n",
      "-rw-rw-r-- 1 janaya janaya 2043568 feb 27  2024 240216_CNN_PScore0.980_RScore0.596_FScore0.741.h5\r\n",
      "-rw-rw-r-- 1 janaya janaya 2043568 feb 27  2024 240216_CNN_PScore0.983_RScore0.512_FScore0.673.h5\r\n",
      "-rw-rw-r-- 1 janaya janaya 2043568 feb 27  2024 240216_CNN_PScore0.991_RScore0.404_FScore0.574.h5\r\n",
      "-rw-rw-r-- 1 janaya janaya 2043568 feb 27  2024 240216_CNN_PScore0.983_RScore0.544_FScore0.700.h5\r\n",
      "-rw-rw-r-- 1 janaya janaya 2043568 feb 27  2024 240216_CNN_PScore0.973_RScore0.611_FScore0.750.h5\r\n",
      "-rw-rw-r-- 1 janaya janaya 2043568 feb 27  2024 240216_CNN_PScore0.987_RScore0.467_FScore0.634.h5\r\n",
      "-rw-rw-r-- 1 janaya janaya 2043568 feb 27  2024 240216_CNN_PScore0.978_RScore0.602_FScore0.746.h5\r\n",
      "-rw-rw-r-- 1 janaya janaya 2043568 feb 27  2024 240216_CNN_PScore0.966_RScore0.308_FScore0.468.h5\r\n",
      "-rw-rw-r-- 1 janaya janaya 2043568 feb 27  2024 240216_CNN_PScore0.986_RScore0.315_FScore0.477.h5\r\n",
      "-rw-rw-r-- 1 janaya janaya 2043568 feb 27  2024 240216_CNN_PScore0.916_RScore0.447_FScore0.601.h5\r\n",
      "-rw-rw-r-- 1 janaya janaya 2043568 feb 27  2024 240216_CNN_PScore0.996_RScore0.114_FScore0.204.h5\r\n",
      "-rw-rw-r-- 1 janaya janaya 2043568 feb 27  2024 240216_CNN_PScore0.970_RScore0.219_FScore0.358.h5\r\n",
      "-rw-rw-r-- 1 janaya janaya 2043568 feb 27  2024 240216_CNN_PScore0.979_RScore0.250_FScore0.399.h5\r\n",
      "-rw-rw-r-- 1 janaya janaya 2043568 feb 27  2024 240216_CNN_PScore0.985_RScore0.187_FScore0.315.h5\r\n",
      "-rw-rw-r-- 1 janaya janaya 2043568 feb 27  2024 240216_CNN_PScore0.990_RScore0.175_FScore0.297.h5\r\n",
      "-rw-rw-r-- 1 janaya janaya 2043568 feb 27  2024 240216_CNN_PScore0.987_RScore0.292_FScore0.451.h5\r\n",
      "-rw-rw-r-- 1 janaya janaya 2043568 feb 27  2024 240216_CNN_PScore0.992_RScore0.175_FScore0.297.h5\r\n",
      "-rw-rw-r-- 1 janaya janaya 2043568 feb 27  2024 240216_CNN_PScore0.983_RScore0.234_FScore0.379.h5\r\n",
      "-rw-rw-r-- 1 janaya janaya 2043568 feb 27  2024 240216_CNN_PScore0.998_RScore0.085_FScore0.156.h5\r\n",
      "-rw-rw-r-- 1 janaya janaya 2043568 feb 27  2024 240216_CNN_PScore0.928_RScore0.484_FScore0.636.h5\r\n",
      "-rw-rw-r-- 1 janaya janaya 2043568 feb 27  2024 240216_CNN_PScore0.987_RScore0.172_FScore0.292.h5\r\n",
      "-rw-rw-r-- 1 janaya janaya 2043568 feb 27  2024 240216_CNN_PScore0.998_RScore0.082_FScore0.151.h5\r\n",
      "-rw-rw-r-- 1 janaya janaya 2043568 feb 27  2024 240216_CNN_PScore0.989_RScore0.258_FScore0.409.h5\r\n",
      "-rw-rw-r-- 1 janaya janaya 2043568 feb 27  2024 240216_CNN_PScore0.936_RScore0.501_FScore0.653.h5\r\n",
      "-rw-rw-r-- 1 janaya janaya 2043568 feb 27  2024 240216_CNN_PScore0.956_RScore0.389_FScore0.553.h5\r\n",
      "-rw-rw-r-- 1 janaya janaya 2043568 feb 27  2024 240216_CNN_PScore0.975_RScore0.340_FScore0.504.h5\r\n",
      "-rw-rw-r-- 1 janaya janaya 2043568 feb 27  2024 240216_CNN_PScore0.974_RScore0.247_FScore0.394.h5\r\n",
      "-rw-rw-r-- 1 janaya janaya 2043568 feb 28  2024 240216_CNN_PScore0.944_RScore0.273_FScore0.424.h5\r\n",
      "-rw-rw-r-- 1 janaya janaya 2043568 feb 28  2024 240216_CNN_PScore0.993_RScore0.154_FScore0.267.h5\r\n",
      "-rw-rw-r-- 1 janaya janaya 2043568 feb 28  2024 240216_CNN_PScore0.975_RScore0.222_FScore0.361.h5\r\n",
      "-rw-rw-r-- 1 janaya janaya 2043568 feb 28  2024 240216_CNN_PScore0.948_RScore0.440_FScore0.601.h5\r\n",
      "-rw-rw-r-- 1 janaya janaya 2043568 feb 28  2024 240216_CNN_PScore0.964_RScore0.356_FScore0.520.h5\r\n",
      "-rw-rw-r-- 1 janaya janaya 2043568 feb 28  2024 240216_CNN_PScore0.998_RScore0.093_FScore0.170.h5\r\n",
      "-rw-rw-r-- 1 janaya janaya 2043568 feb 28  2024 240216_CNN_PScore0.996_RScore0.130_FScore0.230.h5\r\n",
      "-rw-rw-r-- 1 janaya janaya 2043568 feb 28  2024 240216_CNN_PScore0.978_RScore0.239_FScore0.384.h5\r\n",
      "-rw-rw-r-- 1 janaya janaya 2043568 feb 28  2024 240216_CNN_PScore0.937_RScore0.454_FScore0.612.h5\r\n",
      "-rw-rw-r-- 1 janaya janaya 2043568 feb 29  2024 240216_CNN_PScore0.944_RScore0.425_FScore0.587.h5\r\n",
      "-rw-rw-r-- 1 janaya janaya 2043568 feb 29  2024 240216_CNN_PScore0.944_RScore0.365_FScore0.527.h5\r\n",
      "-rw-rw-r-- 1 janaya janaya 2043568 feb 29  2024 240216_CNN_PScore0.956_RScore0.437_FScore0.600.h5\r\n",
      "-rw-rw-r-- 1 janaya janaya 2043568 feb 29  2024 240216_CNN_PScore0.932_RScore0.392_FScore0.552.h5\r\n",
      "-rw-rw-r-- 1 janaya janaya 2043568 feb 29  2024 240216_CNN_PScore0.925_RScore0.628_FScore0.748.h5\r\n",
      "-rw-rw-r-- 1 janaya janaya 2043568 feb 29  2024 240216_CNN_PScore0.962_RScore0.224_FScore0.364.h5\r\n",
      "-rw-rw-r-- 1 janaya janaya 2043568 feb 29  2024 240216_CNN_PScore0.962_RScore0.409_FScore0.574.h5\r\n",
      "-rw-rw-r-- 1 janaya janaya 2043568 feb 29  2024 240216_CNN_PScore0.986_RScore0.312_FScore0.474.h5\r\n",
      "-rw-rw-r-- 1 janaya janaya 2043568 feb 29  2024 240216_CNN_PScore0.955_RScore0.326_FScore0.486.h5\r\n",
      "-rw-rw-r-- 1 janaya janaya 2043568 feb 29  2024 240216_CNN_PScore0.995_RScore0.164_FScore0.281.h5\r\n",
      "-rw-rw-r-- 1 janaya janaya 2043568 feb 29  2024 240216_CNN_PScore0.932_RScore0.234_FScore0.374.h5\r\n",
      "-rw-rw-r-- 1 janaya janaya 2043568 feb 29  2024 240216_CNN_PScore0.955_RScore0.324_FScore0.484.h5\r\n",
      "-rw-rw-r-- 1 janaya janaya 2043568 feb 29  2024 240216_CNN_PScore0.989_RScore0.087_FScore0.160.h5\r\n",
      "-rw-rw-r-- 1 janaya janaya 2043568 feb 29  2024 240216_CNN_PScore0.952_RScore0.269_FScore0.420.h5\r\n",
      "-rw-rw-r-- 1 janaya janaya 2043568 feb 29  2024 240216_CNN_PScore0.930_RScore0.405_FScore0.565.h5\r\n",
      "-rw-rw-r-- 1 janaya janaya 2043568 feb 29  2024 240216_CNN_PScore0.923_RScore0.552_FScore0.691.h5\r\n",
      "-rw-rw-r-- 1 janaya janaya 2043568 feb 29  2024 240216_CNN_PScore0.976_RScore0.250_FScore0.399.h5\r\n",
      "-rw-rw-r-- 1 janaya janaya 2043568 feb 29  2024 240216_CNN_PScore0.991_RScore0.163_FScore0.280.h5\r\n",
      "-rw-rw-r-- 1 janaya janaya 2043568 feb 29  2024 240216_CNN_PScore0.934_RScore0.432_FScore0.591.h5\r\n",
      "-rw-rw-r-- 1 janaya janaya 2043568 feb 29  2024 240216_CNN_PScore0.981_RScore0.167_FScore0.286.h5\r\n",
      "-rw-rw-r-- 1 janaya janaya 2043568 feb 29  2024 240216_CNN_PScore0.940_RScore0.265_FScore0.414.h5\r\n",
      "-rw-rw-r-- 1 janaya janaya 2043568 feb 29  2024 240216_CNN_PScore0.956_RScore0.183_FScore0.306.h5\r\n",
      "-rw-rw-r-- 1 janaya janaya 2043568 feb 29  2024 240216_CNN_PScore0.971_RScore0.266_FScore0.417.h5\r\n",
      "-rw-rw-r-- 1 janaya janaya 2043568 feb 29  2024 240216_CNN_PScore0.995_RScore0.147_FScore0.257.h5\r\n",
      "-rw-rw-r-- 1 janaya janaya 2043568 feb 29  2024 240216_CNN_PScore0.997_RScore0.115_FScore0.207.h5\r\n",
      "-rw-rw-r-- 1 janaya janaya 2043568 feb 29  2024 240216_CNN_PScore0.965_RScore0.354_FScore0.518.h5\r\n",
      "-rw-rw-r-- 1 janaya janaya 2043568 feb 29  2024 240216_CNN_PScore0.926_RScore0.345_FScore0.502.h5\r\n",
      "-rw-rw-r-- 1 janaya janaya 2043568 feb 29  2024 240216_CNN_PScore0.966_RScore0.226_FScore0.367.h5\r\n",
      "-rw-rw-r-- 1 janaya janaya 2043568 feb 29  2024 240216_CNN_PScore0.980_RScore0.181_FScore0.306.h5\r\n",
      "-rw-rw-r-- 1 janaya janaya 2043568 feb 29  2024 240216_CNN_PScore0.963_RScore0.426_FScore0.591.h5\r\n",
      "-rw-rw-r-- 1 janaya janaya 2043568 feb 29  2024 240216_CNN_PScore0.938_RScore0.582_FScore0.718.h5\r\n",
      "-rw-rw-r-- 1 janaya janaya 2043568 feb 29  2024 240216_CNN_PScore0.955_RScore0.348_FScore0.510.h5\r\n",
      "-rw-rw-r-- 1 janaya janaya 2043568 feb 29  2024 240216_CNN_PScore0.979_RScore0.213_FScore0.350.h5\r\n",
      "-rw-rw-r-- 1 janaya janaya 2043568 feb 29  2024 240216_CNN_PScore0.998_RScore0.108_FScore0.194.h5\r\n",
      "-rw-rw-r-- 1 janaya janaya 2043568 feb 29  2024 240216_CNN_PScore0.933_RScore0.233_FScore0.373.h5\r\n",
      "-rw-rw-r-- 1 janaya janaya 2043568 feb 29  2024 240216_CNN_PScore0.970_RScore0.232_FScore0.375.h5\r\n",
      "-rw-rw-r-- 1 janaya janaya 2043568 feb 29  2024 240216_CNN_PScore0.962_RScore0.263_FScore0.413.h5\r\n",
      "-rw-rw-r-- 1 janaya janaya 2043568 feb 29  2024 240216_CNN_PScore0.935_RScore0.572_FScore0.710.h5\r\n",
      "-rw-rw-r-- 1 janaya janaya 2043568 feb 29  2024 240216_CNN_PScore0.968_RScore0.184_FScore0.309.h5\r\n",
      "-rw-rw-r-- 1 janaya janaya 2043568 feb 29  2024 240216_CNN_PScore0.985_RScore0.138_FScore0.242.h5\r\n",
      "-rw-rw-r-- 1 janaya janaya 2043568 feb 29  2024 240216_CNN_PScore0.945_RScore0.499_FScore0.653.h5\r\n",
      "-rw-rw-r-- 1 janaya janaya 2043568 feb 29  2024 240216_CNN_PScore0.948_RScore0.194_FScore0.322.h5\r\n",
      "-rw-rw-r-- 1 janaya janaya 2043568 feb 29  2024 240216_CNN_PScore0.987_RScore0.222_FScore0.362.h5\r\n",
      "-rw-rw-r-- 1 janaya janaya 2043568 feb 29  2024 240216_CNN_PScore0.974_RScore0.386_FScore0.553.h5\r\n",
      "-rw-rw-r-- 1 janaya janaya 2043568 feb 29  2024 240216_CNN_PScore0.953_RScore0.231_FScore0.371.h5\r\n",
      "-rw-rw-r-- 1 janaya janaya 2043568 mar  1  2024 240216_CNN_PScore0.919_RScore0.327_FScore0.482.h5\r\n",
      "-rw-rw-r-- 1 janaya janaya 2043568 mar  1  2024 240216_CNN_PScore0.884_RScore0.012_FScore0.024.h5\r\n",
      "-rw-rw-r-- 1 janaya janaya 2043568 mar  1  2024 240216_CNN_PScore0.980_RScore0.301_FScore0.461.h5\r\n",
      "-rw-rw-r-- 1 janaya janaya 2043568 mar  1  2024 240216_CNN_PScore0.984_RScore0.171_FScore0.292.h5\r\n",
      "-rw-rw-r-- 1 janaya janaya 2043568 mar  1  2024 240216_CNN_PScore0.946_RScore0.503_FScore0.657.h5\r\n",
      "-rw-rw-r-- 1 janaya janaya 2043568 mar  1  2024 240216_CNN_PScore0.939_RScore0.535_FScore0.682.h5\r\n",
      "-rw-rw-r-- 1 janaya janaya 2043568 mar  1  2024 240216_CNN_PScore0.985_RScore0.145_FScore0.253.h5\r\n",
      "-rw-rw-r-- 1 janaya janaya 2043568 mar  1  2024 240216_CNN_PScore0.952_RScore0.272_FScore0.423.h5\r\n",
      "-rw-rw-r-- 1 janaya janaya 2043568 mar  1  2024 240216_CNN_PScore0.933_RScore0.333_FScore0.491.h5\r\n",
      "-rw-rw-r-- 1 janaya janaya 2043568 mar  1  2024 240216_CNN_PScore0.971_RScore0.319_FScore0.480.h5\r\n",
      "-rw-rw-r-- 1 janaya janaya 2043568 mar  1  2024 240216_CNN_PScore0.946_RScore0.524_FScore0.675.h5\r\n",
      "-rw-rw-r-- 1 janaya janaya 2043568 mar  1  2024 240216_CNN_PScore0.993_RScore0.235_FScore0.380.h5\r\n",
      "-rw-rw-r-- 1 janaya janaya 2043568 mar  1  2024 240216_CNN_PScore0.984_RScore0.196_FScore0.327.h5\r\n",
      "-rw-rw-r-- 1 janaya janaya 2043568 mar  1  2024 240216_CNN_PScore0.967_RScore0.262_FScore0.412.h5\r\n",
      "-rw-rw-r-- 1 janaya janaya 2043568 mar  1  2024 240216_CNN_PScore0.973_RScore0.373_FScore0.539.h5\r\n",
      "-rw-rw-r-- 1 janaya janaya 2043568 mar  1  2024 240216_CNN_PScore0.995_RScore0.155_FScore0.268.h5\r\n",
      "-rw-rw-r-- 1 janaya janaya 2043568 mar  1  2024 240216_CNN_PScore0.941_RScore0.349_FScore0.509.h5\r\n",
      "-rw-rw-r-- 1 janaya janaya 2043568 mar  1  2024 240216_CNN_PScore0.994_RScore0.178_FScore0.302.h5\r\n",
      "-rw-rw-r-- 1 janaya janaya 2043568 mar  1  2024 240216_CNN_PScore0.992_RScore0.107_FScore0.193.h5\r\n",
      "-rw-rw-r-- 1 janaya janaya 2043568 mar  1  2024 240216_CNN_PScore0.968_RScore0.279_FScore0.433.h5\r\n",
      "-rw-rw-r-- 1 janaya janaya 2043568 mar  1  2024 240216_CNN_PScore0.941_RScore0.323_FScore0.481.h5\r\n",
      "-rw-rw-r-- 1 janaya janaya 2043568 mar  1  2024 240216_CNN_PScore0.954_RScore0.296_FScore0.452.h5\r\n",
      "-rw-rw-r-- 1 janaya janaya 2043568 mar  1  2024 240216_CNN_PScore0.964_RScore0.207_FScore0.340.h5\r\n",
      "-rw-rw-r-- 1 janaya janaya 2043568 mar  1  2024 240216_CNN_PScore0.971_RScore0.165_FScore0.282.h5\r\n",
      "-rw-rw-r-- 1 janaya janaya 2043568 mar  1  2024 240216_CNN_PScore0.924_RScore0.318_FScore0.474.h5\r\n",
      "-rw-rw-r-- 1 janaya janaya 2043568 mar  1  2024 240216_CNN_PScore0.979_RScore0.299_FScore0.458.h5\r\n",
      "-rw-rw-r-- 1 janaya janaya 2043568 mar  1  2024 240216_CNN_PScore0.987_RScore0.221_FScore0.361.h5\r\n",
      "-rw-rw-r-- 1 janaya janaya 2043568 mar  1  2024 240216_CNN_PScore0.982_RScore0.277_FScore0.432.h5\r\n",
      "-rw-rw-r-- 1 janaya janaya 2043568 mar  1  2024 240216_CNN_PScore0.968_RScore0.333_FScore0.496.h5\r\n",
      "-rw-rw-r-- 1 janaya janaya 2043568 mar  1  2024 240216_CNN_PScore0.963_RScore0.326_FScore0.487.h5\r\n",
      "-rw-rw-r-- 1 janaya janaya 2043568 mar  1  2024 240216_CNN_PScore0.936_RScore0.404_FScore0.564.h5\r\n",
      "-rw-rw-r-- 1 janaya janaya 2043568 mar  1  2024 240216_CNN_PScore0.940_RScore0.343_FScore0.502.h5\r\n",
      "-rw-rw-r-- 1 janaya janaya 2043568 mar  4  2024 240216_CNN_PScore0.974_RScore0.436_FScore0.603.h5\r\n",
      "-rw-rw-r-- 1 janaya janaya 2043568 mar  4  2024 240216_CNN_PScore0.979_RScore0.307_FScore0.468.h5\r\n",
      "-rw-rw-r-- 1 janaya janaya 2043568 mar  4  2024 240216_CNN_PScore0.937_RScore0.331_FScore0.489.h5\r\n",
      "-rw-rw-r-- 1 janaya janaya 2043568 mar  4  2024 240216_CNN_PScore0.991_RScore0.137_FScore0.241.h5\r\n",
      "-rw-rw-r-- 1 janaya janaya 2043568 mar  4  2024 240216_CNN_PScore0.909_RScore0.499_FScore0.644.h5\r\n",
      "-rw-rw-r-- 1 janaya janaya 2043568 mar  4  2024 240216_CNN_PScore0.966_RScore0.229_FScore0.370.h5\r\n",
      "-rw-rw-r-- 1 janaya janaya 2043568 mar  4  2024 240216_CNN_PScore0.974_RScore0.242_FScore0.388.h5\r\n",
      "-rw-rw-r-- 1 janaya janaya 2043568 mar  4  2024 240216_CNN_PScore0.993_RScore0.181_FScore0.306.h5\r\n",
      "-rw-rw-r-- 1 janaya janaya 2043568 mar  4  2024 240216_CNN_PScore0.970_RScore0.265_FScore0.416.h5\r\n",
      "-rw-rw-r-- 1 janaya janaya 2043568 mar  4  2024 240216_CNN_PScore0.949_RScore0.419_FScore0.581.h5\r\n",
      "-rw-rw-r-- 1 janaya janaya 2043568 mar  4  2024 240216_CNN_PScore0.982_RScore0.232_FScore0.376.h5\r\n",
      "-rw-rw-r-- 1 janaya janaya 2043568 mar  4  2024 240216_CNN_PScore0.975_RScore0.250_FScore0.398.h5\r\n",
      "-rw-rw-r-- 1 janaya janaya 2043568 mar  4  2024 240216_CNN_PScore0.970_RScore0.377_FScore0.543.h5\r\n",
      "-rw-rw-r-- 1 janaya janaya 2043568 mar  4  2024 240216_CNN_PScore0.969_RScore0.317_FScore0.478.h5\r\n",
      "-rw-rw-r-- 1 janaya janaya 2043568 mar  4  2024 240216_CNN_PScore0.974_RScore0.282_FScore0.437.h5\r\n",
      "-rw-rw-r-- 1 janaya janaya 2043568 mar  4  2024 240216_CNN_PScore0.987_RScore0.236_FScore0.381.h5\r\n",
      "-rw-rw-r-- 1 janaya janaya 2043568 mar  4  2024 240216_CNN_PScore0.968_RScore0.263_FScore0.414.h5\r\n",
      "-rw-rw-r-- 1 janaya janaya 2043568 mar  4  2024 240216_CNN_PScore0.992_RScore0.211_FScore0.348.h5\r\n",
      "-rw-rw-r-- 1 janaya janaya 2043568 mar  4  2024 240216_CNN_PScore0.924_RScore0.618_FScore0.741.h5\r\n",
      "-rw-rw-r-- 1 janaya janaya 2043568 mar  4  2024 240216_CNN_PScore0.971_RScore0.154_FScore0.266.h5\r\n",
      "-rw-rw-r-- 1 janaya janaya 2043568 mar  4  2024 240216_CNN_PScore0.995_RScore0.186_FScore0.313.h5\r\n",
      "-rw-rw-r-- 1 janaya janaya 2043568 mar  4  2024 240216_CNN_PScore0.985_RScore0.268_FScore0.421.h5\r\n",
      "-rw-rw-r-- 1 janaya janaya 2043568 mar  4  2024 240216_CNN_PScore0.983_RScore0.176_FScore0.299.h5\r\n",
      "-rw-rw-r-- 1 janaya janaya 2043568 mar  4  2024 240216_CNN_PScore0.973_RScore0.154_FScore0.265.h5\r\n",
      "-rw-rw-r-- 1 janaya janaya 2043568 mar  4  2024 240216_CNN_PScore0.976_RScore0.174_FScore0.296.h5\r\n",
      "-rw-rw-r-- 1 janaya janaya 2043568 mar  4  2024 240216_CNN_PScore0.933_RScore0.437_FScore0.595.h5\r\n",
      "-rw-rw-r-- 1 janaya janaya 2043568 mar  4  2024 240216_CNN_PScore0.948_RScore0.576_FScore0.716.h5\r\n",
      "-rw-rw-r-- 1 janaya janaya 2043568 mar  4  2024 240216_CNN_PScore0.936_RScore0.545_FScore0.689.h5\r\n",
      "-rw-rw-r-- 1 janaya janaya 2043568 mar  4  2024 240216_CNN_PScore0.950_RScore0.304_FScore0.461.h5\r\n",
      "-rw-rw-r-- 1 janaya janaya 2043568 mar  4  2024 240216_CNN_PScore0.971_RScore0.353_FScore0.518.h5\r\n",
      "-rw-rw-r-- 1 janaya janaya 2043568 mar  4  2024 240216_CNN_PScore0.979_RScore0.230_FScore0.372.h5\r\n",
      "-rw-rw-r-- 1 janaya janaya 2043568 mar  4  2024 240216_CNN_PScore0.988_RScore0.200_FScore0.333.h5\r\n",
      "-rw-rw-r-- 1 janaya janaya 2043568 mar  4  2024 240216_CNN_PScore0.966_RScore0.304_FScore0.463.h5\r\n",
      "-rw-rw-r-- 1 janaya janaya 2043568 mar  4  2024 240216_CNN_PScore0.955_RScore0.402_FScore0.566.h5\r\n",
      "-rw-rw-r-- 1 janaya janaya 2043568 mar  4  2024 240216_CNN_PScore0.978_RScore0.383_FScore0.550.h5\r\n",
      "-rw-rw-r-- 1 janaya janaya 2043568 mar  5  2024 240216_CNN_PScore0.924_RScore0.451_FScore0.606.h5\r\n",
      "-rw-rw-r-- 1 janaya janaya 2043568 mar 14  2024 240216_CNN_PScore0.958_RScore0.432_FScore0.596.h5\r\n",
      "-rw-rw-r-- 1 janaya janaya 2043568 mar 14  2024 240216_CNN_PScore0.943_RScore0.226_FScore0.365.h5\r\n",
      "-rw-rw-r-- 1 janaya janaya 2043568 mar 14  2024 240216_CNN_PScore0.927_RScore0.205_FScore0.335.h5\r\n",
      "-rw-rw-r-- 1 janaya janaya 2043568 mar 14  2024 240216_CNN_PScore0.967_RScore0.140_FScore0.244.h5\r\n",
      "-rw-rw-r-- 1 janaya janaya 2043568 mar 14  2024 240216_CNN_PScore0.954_RScore0.303_FScore0.460.h5\r\n",
      "-rw-rw-r-- 1 janaya janaya 2043568 mar 14  2024 240216_CNN_PScore0.950_RScore0.198_FScore0.328.h5\r\n",
      "-rw-rw-r-- 1 janaya janaya 2043568 mar 14  2024 240216_CNN_PScore0.978_RScore0.151_FScore0.261.h5\r\n",
      "-rw-rw-r-- 1 janaya janaya 2043568 mar 14  2024 240216_CNN_PScore0.979_RScore0.311_FScore0.472.h5\r\n",
      "-rw-rw-r-- 1 janaya janaya 2043568 mar 14  2024 240216_CNN_PScore0.994_RScore0.130_FScore0.229.h5\r\n",
      "-rw-rw-r-- 1 janaya janaya 2043568 mar 14  2024 240216_CNN_PScore0.989_RScore0.232_FScore0.376.h5\r\n",
      "-rw-rw-r-- 1 janaya janaya 2043568 mar 14  2024 240216_CNN_PScore0.982_RScore0.362_FScore0.529.h5\r\n",
      "-rw-rw-r-- 1 janaya janaya 2043568 mar 14  2024 240216_CNN_PScore0.970_RScore0.233_FScore0.376.h5\r\n",
      "-rw-rw-r-- 1 janaya janaya 2043568 mar 14  2024 240216_CNN_PScore0.971_RScore0.366_FScore0.532.h5\r\n",
      "-rw-rw-r-- 1 janaya janaya 2043568 mar 14  2024 240216_CNN_PScore0.959_RScore0.290_FScore0.445.h5\r\n",
      "-rw-rw-r-- 1 janaya janaya 2043568 mar 14  2024 240216_CNN_PScore0.955_RScore0.534_FScore0.685.h5\r\n",
      "-rw-rw-r-- 1 janaya janaya 2043568 mar 14  2024 240216_CNN_PScore0.965_RScore0.273_FScore0.425.h5\r\n",
      "-rw-rw-r-- 1 janaya janaya 2043568 mar 14  2024 240216_CNN_PScore0.945_RScore0.273_FScore0.423.h5\r\n",
      "-rw-rw-r-- 1 janaya janaya 2043568 mar 14  2024 240216_CNN_PScore0.979_RScore0.212_FScore0.348.h5\r\n",
      "-rw-rw-r-- 1 janaya janaya 2043568 mar 14  2024 240216_CNN_PScore0.971_RScore0.406_FScore0.573.h5\r\n",
      "-rw-rw-r-- 1 janaya janaya 2043568 mar 14  2024 240216_CNN_PScore0.970_RScore0.251_FScore0.399.h5\r\n",
      "-rw-rw-r-- 1 janaya janaya 2043568 mar 14  2024 240216_CNN_PScore0.926_RScore0.239_FScore0.380.h5\r\n",
      "-rw-rw-r-- 1 janaya janaya 2043568 mar 14  2024 240216_CNN_PScore0.984_RScore0.261_FScore0.412.h5\r\n",
      "-rw-rw-r-- 1 janaya janaya 2043568 mar 14  2024 240216_CNN_PScore0.972_RScore0.319_FScore0.480.h5\r\n",
      "-rw-rw-r-- 1 janaya janaya 2043568 mar 14  2024 240216_CNN_PScore0.968_RScore0.236_FScore0.380.h5\r\n",
      "-rw-rw-r-- 1 janaya janaya 2043568 mar 14  2024 240216_CNN_PScore0.980_RScore0.258_FScore0.409.h5\r\n",
      "-rw-rw-r-- 1 janaya janaya 2043568 mar 14  2024 240216_CNN_PScore0.975_RScore0.225_FScore0.365.h5\r\n",
      "-rw-rw-r-- 1 janaya janaya 2043568 mar 14  2024 240216_CNN_PScore0.973_RScore0.423_FScore0.590.h5\r\n",
      "-rw-rw-r-- 1 janaya janaya 2043568 mar 14  2024 240216_CNN_PScore0.963_RScore0.289_FScore0.445.h5\r\n",
      "-rw-rw-r-- 1 janaya janaya 2043568 mar 14  2024 240216_CNN_PScore0.914_RScore0.424_FScore0.579.h5\r\n",
      "-rw-rw-r-- 1 janaya janaya 2043568 mar 14  2024 240216_CNN_PScore0.973_RScore0.297_FScore0.455.h5\r\n",
      "-rw-rw-r-- 1 janaya janaya 2043568 oct 29 14:04 240216_CNN_PScore0.960_RScore0.690_FScore0.803.h5\r\n"
     ]
    }
   ],
   "source": [
    "import os, math, random\n",
    "random.seed(2)\n",
    "import numpy as np\n",
    "import tensorflow as tf\n",
    "from pyrsgis import raster\n",
    "import glob, time\n",
    "from pyrsgis.ml import imageChipsFromArray\n",
    "\n",
    "\n",
    "#Update model name at \"model\" variable\n",
    "# note that the model was already built (.h5 file) check date and time for the last version, \n",
    "# it must be manually updated in the next cell.\n",
    "!ls -ltr /home/janaya/NeuralNetworks/trained_models/"
   ]
  },
  {
   "cell_type": "code",
   "execution_count": 24,
   "id": "tSkN4JLXDPOD",
   "metadata": {
    "id": "tSkN4JLXDPOD"
   },
   "outputs": [],
   "source": [
    "#Search above for the last saved model\n",
    "#update here:\n",
    "model = tf.keras.models.load_model('/home/janaya/NeuralNetworks/trained_models/240216_CNN_PScore0.982_RScore0.548_FScore0.704.h5'\n",
    ")"
   ]
  },
  {
   "cell_type": "code",
   "execution_count": 25,
   "id": "apWWcCMpFAB-",
   "metadata": {
    "colab": {
     "base_uri": "https://localhost:8080/",
     "height": 487
    },
    "id": "apWWcCMpFAB-",
    "outputId": "d410dc92-916a-43ab-a825-3e222deba57a"
   },
   "outputs": [
    {
     "name": "stdout",
     "output_type": "stream",
     "text": [
      "Values in input features, min: 0 & max: 257\n",
      "Shape of the new features (16269975, 9, 9, 2)\n",
      "508437/508437 [==============================] - 328s 645us/step\n"
     ]
    },
    {
     "data": {
      "image/png": "[encoded data removed]",
      "text/plain": [
       "<Figure size 640x480 with 1 Axes>"
      ]
     },
     "metadata": {},
     "output_type": "display_data"
    }
   ],
   "source": [
    "# Load a new multispectral image\n",
    "# Control resources with htop.  There is memory limitation based on k, bands, rows and columns.\n",
    "\n",
    "\n",
    "ds, featuresNewImage = raster.read('/home/janaya/Downloads/NewFeature16bit_27.tif')\n",
    "\n",
    "outFile = 'predicted_231226_27.tif'\n",
    "# Generate image chips in the back-end, the size of the file can be different but it might run out of memory. \n",
    "# And it does.  Adjust the number of bands, originally 6 bands (b1,b2,b3,b4,b5,b6), see feat variable.\n",
    "def CNNdataGenerator(mxBands, kSize):\n",
    "    mxBands = mxBands / 255.0\n",
    "    nBands, rows, cols = mxBands.shape\n",
    "    margin = math.floor(kSize/2)\n",
    "    mxBands = np.pad(mxBands, margin, mode='constant')[margin:-margin, :, :]\n",
    "\n",
    "    features = np.empty((rows*cols, kSize, kSize, nBands))\n",
    "\n",
    "    n = 0\n",
    "    for row in range(margin, rows+margin):\n",
    "        for col in range(margin, cols+margin):\n",
    "            feat = mxBands[:, row-margin:row+margin+1, col-margin:col+margin+1]\n",
    "\n",
    "            b1, b2 = feat\n",
    "            feat = np.dstack((b1, b2))\n",
    "\n",
    "            features[n, :, :, :] = feat\n",
    "            n += 1\n",
    "\n",
    "    return(features)\n",
    "\n",
    "\n",
    "# Call the function to generate features tensor\n",
    "print('Values in input features, min: %d & max: %d' % (features.min(), features.max()))\n",
    "new_features = CNNdataGenerator(featuresNewImage, kSize=9) # see imageChipsFromFile\n",
    "print('Shape of the new features', new_features.shape)\n",
    "\n",
    "# Predict new data and export the probability raster\n",
    "newPredicted = model.predict(new_features)\n",
    "newPredicted = newPredicted[:,1]\n",
    "\n",
    "prediction = np.reshape(newPredicted, (ds.RasterYSize, ds.RasterXSize))\n",
    "raster.export(prediction, ds, filename=outFile, dtype='float')\n",
    "\n",
    "plt.imshow(prediction)\n",
    "plt.show()"
   ]
  },
  {
   "cell_type": "code",
   "execution_count": null,
   "id": "80c8309f",
   "metadata": {},
   "outputs": [],
   "source": []
  }
 ],
 "metadata": {
  "colab": {
   "provenance": []
  },
  "kernelspec": {
   "display_name": "Python 3 (ipykernel)",
   "language": "python",
   "name": "python3"
  },
  "language_info": {
   "codemirror_mode": {
    "name": "ipython",
    "version": 3
   },
   "file_extension": ".py",
   "mimetype": "text/x-python",
   "name": "python",
   "nbconvert_exporter": "python",
   "pygments_lexer": "ipython3",
   "version": "3.11.5"
  },
  "toc-autonumbering": true,
  "toc-showcode": true
 },
 "nbformat": 4,
 "nbformat_minor": 5
}
